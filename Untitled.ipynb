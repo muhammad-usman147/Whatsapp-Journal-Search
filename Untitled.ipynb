{
 "cells": [
  {
   "cell_type": "code",
   "execution_count": 2,
   "id": "a4dd8c76",
   "metadata": {},
   "outputs": [],
   "source": [
    "import numpy as np \n",
    "import pandas as pd\n",
    "import glob"
   ]
  },
  {
   "cell_type": "code",
   "execution_count": 6,
   "id": "35713ba6",
   "metadata": {},
   "outputs": [],
   "source": [
    "files = glob.glob(\"*.csv\")"
   ]
  },
  {
   "cell_type": "code",
   "execution_count": 9,
   "id": "eb657420",
   "metadata": {},
   "outputs": [
    {
     "data": {
      "text/plain": [
       "Index(['Journal title', 'ISSN', 'eISSN', 'Publisher name', 'Publisher address',\n",
       "       'Languages', 'Web of Science Categories'],\n",
       "      dtype='object')"
      ]
     },
     "execution_count": 9,
     "metadata": {},
     "output_type": "execute_result"
    }
   ],
   "source": [
    "pd.read_csv(files[0]).columns"
   ]
  },
  {
   "cell_type": "code",
   "execution_count": 10,
   "id": "5146e472",
   "metadata": {},
   "outputs": [
    {
     "data": {
      "text/plain": [
       "Index(['Journal title', 'ISSN', 'eISSN', 'Publisher name', 'Publisher address',\n",
       "       'Languages', 'Web of Science Categories'],\n",
       "      dtype='object')"
      ]
     },
     "execution_count": 10,
     "metadata": {},
     "output_type": "execute_result"
    }
   ],
   "source": [
    "pd.read_csv(files[1]).columns"
   ]
  },
  {
   "cell_type": "code",
   "execution_count": 11,
   "id": "fb65e70f",
   "metadata": {},
   "outputs": [
    {
     "data": {
      "text/plain": [
       "Index(['Journal title', 'ISSN', 'eISSN', 'Publisher name', 'Publisher address',\n",
       "       'Languages', 'Web of Science Categories'],\n",
       "      dtype='object')"
      ]
     },
     "execution_count": 11,
     "metadata": {},
     "output_type": "execute_result"
    }
   ],
   "source": [
    "pd.read_csv(files[2]).columns"
   ]
  },
  {
   "cell_type": "code",
   "execution_count": 12,
   "id": "4674719f",
   "metadata": {},
   "outputs": [
    {
     "data": {
      "text/plain": [
       "Index(['Journal title', 'ISSN', 'eISSN', 'Publisher name', 'Publisher address',\n",
       "       'Languages', 'Web of Science Categories'],\n",
       "      dtype='object')"
      ]
     },
     "execution_count": 12,
     "metadata": {},
     "output_type": "execute_result"
    }
   ],
   "source": [
    "pd.read_csv(files[3]).columns"
   ]
  },
  {
   "cell_type": "code",
   "execution_count": null,
   "id": "22f3ca23",
   "metadata": {},
   "outputs": [],
   "source": []
  }
 ],
 "metadata": {
  "kernelspec": {
   "display_name": "Python 3 (ipykernel)",
   "language": "python",
   "name": "python3"
  },
  "language_info": {
   "codemirror_mode": {
    "name": "ipython",
    "version": 3
   },
   "file_extension": ".py",
   "mimetype": "text/x-python",
   "name": "python",
   "nbconvert_exporter": "python",
   "pygments_lexer": "ipython3",
   "version": "3.9.13"
  }
 },
 "nbformat": 4,
 "nbformat_minor": 5
}
