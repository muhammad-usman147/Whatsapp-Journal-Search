{
 "cells": [
  {
   "cell_type": "code",
   "execution_count": 2,
   "id": "d142bf2b",
   "metadata": {},
   "outputs": [],
   "source": [
    "import numpy as np \n",
    "import pandas as pd\n",
    "import glob"
   ]
  },
  {
   "cell_type": "code",
   "execution_count": 6,
   "id": "bf2c4a32",
   "metadata": {},
   "outputs": [],
   "source": [
    "files = glob.glob(\"*.csv\")"
   ]
  },
  {
   "cell_type": "code",
   "execution_count": 9,
   "id": "7fa6ab72",
   "metadata": {},
   "outputs": [
    {
     "data": {
      "text/plain": [
       "Index(['Journal title', 'ISSN', 'eISSN', 'Publisher name', 'Publisher address',\n",
       "       'Languages', 'Web of Science Categories'],\n",
       "      dtype='object')"
      ]
     },
     "execution_count": 9,
     "metadata": {},
     "output_type": "execute_result"
    }
   ],
   "source": [
    "pd.read_csv(files[0]).columns"
   ]
  },
  {
   "cell_type": "code",
   "execution_count": 10,
   "id": "d7b6fb53",
   "metadata": {},
   "outputs": [
    {
     "data": {
      "text/plain": [
       "Index(['Journal title', 'ISSN', 'eISSN', 'Publisher name', 'Publisher address',\n",
       "       'Languages', 'Web of Science Categories'],\n",
       "      dtype='object')"
      ]
     },
     "execution_count": 10,
     "metadata": {},
     "output_type": "execute_result"
    }
   ],
   "source": [
    "pd.read_csv(files[1]).columns"
   ]
  },
  {
   "cell_type": "code",
   "execution_count": 11,
   "id": "f4b3876e",
   "metadata": {},
   "outputs": [
    {
     "data": {
      "text/plain": [
       "Index(['Journal title', 'ISSN', 'eISSN', 'Publisher name', 'Publisher address',\n",
       "       'Languages', 'Web of Science Categories'],\n",
       "      dtype='object')"
      ]
     },
     "execution_count": 11,
     "metadata": {},
     "output_type": "execute_result"
    }
   ],
   "source": [
    "pd.read_csv(files[2]).columns"
   ]
  },
  {
   "cell_type": "code",
   "execution_count": 12,
   "id": "b27ff161",
   "metadata": {},
   "outputs": [
    {
     "data": {
      "text/plain": [
       "Index(['Journal title', 'ISSN', 'eISSN', 'Publisher name', 'Publisher address',\n",
       "       'Languages', 'Web of Science Categories'],\n",
       "      dtype='object')"
      ]
     },
     "execution_count": 12,
     "metadata": {},
     "output_type": "execute_result"
    }
   ],
   "source": [
    "pd.read_csv(files[3]).columns"
   ]
  },
  {
   "cell_type": "code",
   "execution_count": 14,
   "id": "c136537b",
   "metadata": {},
   "outputs": [],
   "source": [
    "df_list = []\n",
    "for i in files:\n",
    "    df_list.append(pd.read_csv(i))"
   ]
  },
  {
   "cell_type": "code",
   "execution_count": 33,
   "id": "8d85cfb7",
   "metadata": {},
   "outputs": [],
   "source": [
    "df = pd.DataFrame({})\n",
    "for i in range(len(df_list)):\n",
    "    df = pd.concat([df,df_list[i]],axis=0)"
   ]
  },
  {
   "cell_type": "code",
   "execution_count": 34,
   "id": "75236f82",
   "metadata": {},
   "outputs": [
    {
     "data": {
      "text/html": [
       "<div>\n",
       "<style scoped>\n",
       "    .dataframe tbody tr th:only-of-type {\n",
       "        vertical-align: middle;\n",
       "    }\n",
       "\n",
       "    .dataframe tbody tr th {\n",
       "        vertical-align: top;\n",
       "    }\n",
       "\n",
       "    .dataframe thead th {\n",
       "        text-align: right;\n",
       "    }\n",
       "</style>\n",
       "<table border=\"1\" class=\"dataframe\">\n",
       "  <thead>\n",
       "    <tr style=\"text-align: right;\">\n",
       "      <th></th>\n",
       "      <th>Journal title</th>\n",
       "      <th>ISSN</th>\n",
       "      <th>eISSN</th>\n",
       "      <th>Publisher name</th>\n",
       "      <th>Publisher address</th>\n",
       "      <th>Languages</th>\n",
       "      <th>Web of Science Categories</th>\n",
       "    </tr>\n",
       "  </thead>\n",
       "  <tbody>\n",
       "    <tr>\n",
       "      <th>0</th>\n",
       "      <td>ABACUS-A JOURNAL OF ACCOUNTING FINANCE AND BUS...</td>\n",
       "      <td>0001-3072</td>\n",
       "      <td>1467-6281</td>\n",
       "      <td>WILEY</td>\n",
       "      <td>111 RIVER ST, HOBOKEN, USA, NJ, 07030-5774</td>\n",
       "      <td>English</td>\n",
       "      <td>Business, Finance</td>\n",
       "    </tr>\n",
       "    <tr>\n",
       "      <th>1</th>\n",
       "      <td>ACADEMIA-REVISTA LATINOAMERICANA DE ADMINISTRA...</td>\n",
       "      <td>1012-8255</td>\n",
       "      <td>2056-5127</td>\n",
       "      <td>EMERALD GROUP PUBLISHING LTD</td>\n",
       "      <td>HOWARD HOUSE, WAGON LANE, BINGLEY, ENGLAND, W ...</td>\n",
       "      <td>Spanish</td>\n",
       "      <td>Business | Management</td>\n",
       "    </tr>\n",
       "    <tr>\n",
       "      <th>2</th>\n",
       "      <td>ACADEMIC PSYCHIATRY</td>\n",
       "      <td>1042-9670</td>\n",
       "      <td>1545-7230</td>\n",
       "      <td>SPRINGER</td>\n",
       "      <td>ONE NEW YORK PLAZA, SUITE 4600 , NEW YORK, Uni...</td>\n",
       "      <td>English</td>\n",
       "      <td>Education &amp; Educational Research | Psychiatry</td>\n",
       "    </tr>\n",
       "    <tr>\n",
       "      <th>3</th>\n",
       "      <td>ACADEMY OF MANAGEMENT ANNALS</td>\n",
       "      <td>1941-6520</td>\n",
       "      <td>1941-6067</td>\n",
       "      <td>ACAD MANAGEMENT</td>\n",
       "      <td>PACE UNIV, PO BOX 3020, 235 ELM RD, BRIARCLIFF...</td>\n",
       "      <td>English</td>\n",
       "      <td>Business | Management</td>\n",
       "    </tr>\n",
       "    <tr>\n",
       "      <th>4</th>\n",
       "      <td>ACADEMY OF MANAGEMENT DISCOVERIES</td>\n",
       "      <td>NaN</td>\n",
       "      <td>2168-1007</td>\n",
       "      <td>ACAD MANAGEMENT</td>\n",
       "      <td>PACE UNIV, PO BOX 3020, 235 ELM RD, BRIARCLIFF...</td>\n",
       "      <td>English</td>\n",
       "      <td>Management</td>\n",
       "    </tr>\n",
       "    <tr>\n",
       "      <th>...</th>\n",
       "      <td>...</td>\n",
       "      <td>...</td>\n",
       "      <td>...</td>\n",
       "      <td>...</td>\n",
       "      <td>...</td>\n",
       "      <td>...</td>\n",
       "      <td>...</td>\n",
       "    </tr>\n",
       "    <tr>\n",
       "      <th>8167</th>\n",
       "      <td>ZHURNAL NOVAYA EKONOMICHESKAYA ASSOTSIATSIYA-J...</td>\n",
       "      <td>2221-2264</td>\n",
       "      <td>2221-2264</td>\n",
       "      <td>CONSAS CONFERENCE</td>\n",
       "      <td>VAN DER STERR BLDG, RHODES DR, MOWBRAY, SOUTH ...</td>\n",
       "      <td>Multi-Language</td>\n",
       "      <td>Economics</td>\n",
       "    </tr>\n",
       "    <tr>\n",
       "      <th>8168</th>\n",
       "      <td>ZIBALDONE-ESTUDIOS ITALIANOS DE LA TORRE DEL V...</td>\n",
       "      <td>2255-3576</td>\n",
       "      <td>2255-3576</td>\n",
       "      <td>AJUNTAMIENTO ELIANA</td>\n",
       "      <td>APT CORREOS, 255, L ELIANA, VALENCIA, SPAIN, 4...</td>\n",
       "      <td>Spanish, Italian</td>\n",
       "      <td>Humanities, Multidisciplinary</td>\n",
       "    </tr>\n",
       "    <tr>\n",
       "      <th>8169</th>\n",
       "      <td>ZOLOTOORDYNSKOE OBOZRENIE-GOLDEN HORDE REVIEW</td>\n",
       "      <td>2308-152X</td>\n",
       "      <td>2313-6197</td>\n",
       "      <td>AKAD NAUK RESPUBLIKI TATARSTAN, INST ISTORII I...</td>\n",
       "      <td>KREML, POD YEZD 5, KAZAN, RUSSIA, 00000</td>\n",
       "      <td>English, Russian</td>\n",
       "      <td>History</td>\n",
       "    </tr>\n",
       "    <tr>\n",
       "      <th>8170</th>\n",
       "      <td>ZONA PROXIMA</td>\n",
       "      <td>1657-2416</td>\n",
       "      <td>2145-9444</td>\n",
       "      <td>UNIV NORTE, EDICIONES UNINORTE</td>\n",
       "      <td>KILOMETRO 5 VIA ANTIGUA PUERTO COLOMBIA, BARRA...</td>\n",
       "      <td>Spanish</td>\n",
       "      <td>Education &amp; Educational Research</td>\n",
       "    </tr>\n",
       "    <tr>\n",
       "      <th>8171</th>\n",
       "      <td>ZUTOT</td>\n",
       "      <td>1571-7283</td>\n",
       "      <td>1875-0214</td>\n",
       "      <td>BRILL</td>\n",
       "      <td>PLANTIJNSTRAAT 2, P O BOX 9000, LEIDEN, NETHER...</td>\n",
       "      <td>English</td>\n",
       "      <td>Humanities, Multidisciplinary</td>\n",
       "    </tr>\n",
       "  </tbody>\n",
       "</table>\n",
       "<p>23122 rows × 7 columns</p>\n",
       "</div>"
      ],
      "text/plain": [
       "                                          Journal title       ISSN      eISSN  \\\n",
       "0     ABACUS-A JOURNAL OF ACCOUNTING FINANCE AND BUS...  0001-3072  1467-6281   \n",
       "1     ACADEMIA-REVISTA LATINOAMERICANA DE ADMINISTRA...  1012-8255  2056-5127   \n",
       "2                                   ACADEMIC PSYCHIATRY  1042-9670  1545-7230   \n",
       "3                          ACADEMY OF MANAGEMENT ANNALS  1941-6520  1941-6067   \n",
       "4                     ACADEMY OF MANAGEMENT DISCOVERIES        NaN  2168-1007   \n",
       "...                                                 ...        ...        ...   \n",
       "8167  ZHURNAL NOVAYA EKONOMICHESKAYA ASSOTSIATSIYA-J...  2221-2264  2221-2264   \n",
       "8168  ZIBALDONE-ESTUDIOS ITALIANOS DE LA TORRE DEL V...  2255-3576  2255-3576   \n",
       "8169      ZOLOTOORDYNSKOE OBOZRENIE-GOLDEN HORDE REVIEW  2308-152X  2313-6197   \n",
       "8170                                       ZONA PROXIMA  1657-2416  2145-9444   \n",
       "8171                                              ZUTOT  1571-7283  1875-0214   \n",
       "\n",
       "                                         Publisher name  \\\n",
       "0                                                 WILEY   \n",
       "1                          EMERALD GROUP PUBLISHING LTD   \n",
       "2                                              SPRINGER   \n",
       "3                                       ACAD MANAGEMENT   \n",
       "4                                       ACAD MANAGEMENT   \n",
       "...                                                 ...   \n",
       "8167                                  CONSAS CONFERENCE   \n",
       "8168                                AJUNTAMIENTO ELIANA   \n",
       "8169  AKAD NAUK RESPUBLIKI TATARSTAN, INST ISTORII I...   \n",
       "8170                     UNIV NORTE, EDICIONES UNINORTE   \n",
       "8171                                              BRILL   \n",
       "\n",
       "                                      Publisher address         Languages  \\\n",
       "0            111 RIVER ST, HOBOKEN, USA, NJ, 07030-5774           English   \n",
       "1     HOWARD HOUSE, WAGON LANE, BINGLEY, ENGLAND, W ...           Spanish   \n",
       "2     ONE NEW YORK PLAZA, SUITE 4600 , NEW YORK, Uni...           English   \n",
       "3     PACE UNIV, PO BOX 3020, 235 ELM RD, BRIARCLIFF...           English   \n",
       "4     PACE UNIV, PO BOX 3020, 235 ELM RD, BRIARCLIFF...           English   \n",
       "...                                                 ...               ...   \n",
       "8167  VAN DER STERR BLDG, RHODES DR, MOWBRAY, SOUTH ...    Multi-Language   \n",
       "8168  APT CORREOS, 255, L ELIANA, VALENCIA, SPAIN, 4...  Spanish, Italian   \n",
       "8169            KREML, POD YEZD 5, KAZAN, RUSSIA, 00000  English, Russian   \n",
       "8170  KILOMETRO 5 VIA ANTIGUA PUERTO COLOMBIA, BARRA...           Spanish   \n",
       "8171  PLANTIJNSTRAAT 2, P O BOX 9000, LEIDEN, NETHER...           English   \n",
       "\n",
       "                          Web of Science Categories  \n",
       "0                                 Business, Finance  \n",
       "1                             Business | Management  \n",
       "2     Education & Educational Research | Psychiatry  \n",
       "3                             Business | Management  \n",
       "4                                        Management  \n",
       "...                                             ...  \n",
       "8167                                      Economics  \n",
       "8168                  Humanities, Multidisciplinary  \n",
       "8169                                        History  \n",
       "8170               Education & Educational Research  \n",
       "8171                  Humanities, Multidisciplinary  \n",
       "\n",
       "[23122 rows x 7 columns]"
      ]
     },
     "execution_count": 34,
     "metadata": {},
     "output_type": "execute_result"
    }
   ],
   "source": [
    "df"
   ]
  },
  {
   "cell_type": "code",
   "execution_count": 32,
   "id": "7b962bbf",
   "metadata": {},
   "outputs": [
    {
     "data": {
      "text/plain": [
       "Journal title                False\n",
       "ISSN                          True\n",
       "eISSN                         True\n",
       "Publisher name               False\n",
       "Publisher address             True\n",
       "Languages                     True\n",
       "Web of Science Categories     True\n",
       "dtype: bool"
      ]
     },
     "execution_count": 32,
     "metadata": {},
     "output_type": "execute_result"
    }
   ],
   "source": [
    "df.isnull().any()"
   ]
  },
  {
   "cell_type": "code",
   "execution_count": 24,
   "id": "ee70b993",
   "metadata": {},
   "outputs": [
    {
     "data": {
      "text/plain": [
       "23122"
      ]
     },
     "execution_count": 24,
     "metadata": {},
     "output_type": "execute_result"
    }
   ],
   "source": [
    "3563+1840+9547+8172"
   ]
  },
  {
   "cell_type": "code",
   "execution_count": 25,
   "id": "8810e3a2",
   "metadata": {},
   "outputs": [
    {
     "data": {
      "text/plain": [
       "5403"
      ]
     },
     "execution_count": 25,
     "metadata": {},
     "output_type": "execute_result"
    }
   ],
   "source": [
    "3563+1840"
   ]
  },
  {
   "cell_type": "code",
   "execution_count": null,
   "id": "970e63b8",
   "metadata": {},
   "outputs": [],
   "source": [
    "a"
   ]
  }
 ],
 "metadata": {
  "kernelspec": {
   "display_name": "Python 3 (ipykernel)",
   "language": "python",
   "name": "python3"
  },
  "language_info": {
   "codemirror_mode": {
    "name": "ipython",
    "version": 3
   },
   "file_extension": ".py",
   "mimetype": "text/x-python",
   "name": "python",
   "nbconvert_exporter": "python",
   "pygments_lexer": "ipython3",
   "version": "3.9.13"
  }
 },
 "nbformat": 4,
 "nbformat_minor": 5
}
